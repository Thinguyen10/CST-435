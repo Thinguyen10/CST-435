{
 "cells": [
  {
   "cell_type": "markdown",
   "metadata": {},
   "source": [
    "# Perceptron Project\n"
   ]
  },
  {
   "cell_type": "markdown",
   "metadata": {},
   "source": [
    "***The basics of perceptron***\n",
    "- Explain structure of perceptron, including features, weights, bias, activation function\n",
    "explain activations functions, especially step or sigmoid function and understand how they introduce non-linearity"
   ]
  },
  {
   "cell_type": "markdown",
   "metadata": {},
   "source": [
    "1. **Introduction and Objective:** \n",
    "\n",
    "*Clearly define the goal of the project and its significance.*\n"
   ]
  },
  {
   "cell_type": "code",
   "execution_count": null,
   "metadata": {},
   "outputs": [],
   "source": [
    "# code goes here, if applicable"
   ]
  },
  {
   "cell_type": "markdown",
   "metadata": {},
   "source": [
    "2. **Data Description:** \n",
    "\n",
    "*Provide an overview of the dataset, including its source and characteristics.*\n"
   ]
  },
  {
   "cell_type": "code",
   "execution_count": null,
   "metadata": {},
   "outputs": [],
   "source": [
    "# code describing the data goes here, as applicable"
   ]
  },
  {
   "cell_type": "markdown",
   "metadata": {},
   "source": [
    "3. **Data Preprocessing:** \n",
    "\n",
    "*Detail the steps taken to prepare the data for analysis, including cleaning and feature engineering*\n",
    "ex: fill in blanks, normalize, scale\n"
   ]
  },
  {
   "cell_type": "code",
   "execution_count": null,
   "metadata": {},
   "outputs": [],
   "source": [
    "# code goes here as applicable"
   ]
  },
  {
   "cell_type": "markdown",
   "metadata": {},
   "source": [
    "4. **Training and Testing Set:**\n",
    "\n",
    "*If applicable, define training and testing sets*"
   ]
  },
  {
   "cell_type": "code",
   "execution_count": null,
   "metadata": {},
   "outputs": [],
   "source": [
    "# code goes here as applicable"
   ]
  },
  {
   "cell_type": "markdown",
   "metadata": {},
   "source": [
    "### Implementing the Perceptron ###"
   ]
  },
  {
   "cell_type": "markdown",
   "metadata": {},
   "source": [
    " **Initialize Number of Features, Weights and Bias** \n",
    "\n",
    "Start with random small values.\n",
    "- Bias is initialized to zero FINISH\n"
   ]
  },
  {
   "cell_type": "code",
   "execution_count": null,
   "metadata": {},
   "outputs": [],
   "source": [
    "import numpy as np\n",
    "num_features = 3\n",
    "weights = np.random.uniform(low=-0.5, high=0.5, size=num_features)\n",
    "bias = 0.0"
   ]
  },
  {
   "cell_type": "markdown",
   "metadata": {},
   "source": [
    " **Implement Activation Function** \n",
    "\n",
    "*note: write a function for the activation function*\n"
   ]
  },
  {
   "cell_type": "code",
   "execution_count": null,
   "metadata": {},
   "outputs": [],
   "source": [
    "# code goes here as applicable"
   ]
  },
  {
   "cell_type": "markdown",
   "metadata": {},
   "source": [
    "\n",
    "**Compute Weighted Sum:** \n",
    "\n",
    "*Calculate the weighted sum of inputs plus bias.*\n"
   ]
  },
  {
   "cell_type": "code",
   "execution_count": null,
   "metadata": {},
   "outputs": [],
   "source": [
    "# code goes here as applicable"
   ]
  },
  {
   "cell_type": "markdown",
   "metadata": {},
   "source": [
    "\n",
    "**Apply Activation Function::** \n",
    "\n",
    "*Pass the weighted sum through the activation function.*\n"
   ]
  },
  {
   "cell_type": "code",
   "execution_count": null,
   "metadata": {},
   "outputs": [],
   "source": [
    "# code goes here as applicable"
   ]
  },
  {
   "cell_type": "markdown",
   "metadata": {},
   "source": [
    "\n",
    "### Training the Perceptron\n",
    "Reason \n",
    "\n",
    "*To find the optimal weights and bias that separate the classes*\n"
   ]
  },
  {
   "cell_type": "markdown",
   "metadata": {},
   "source": [
    "- Implement a function to train the perceptron using an iterative method.\n",
    "- Update the weights and bias based on the error between predicted and actual class labels.\n",
    "- Repeat this process until convergence or for a set number of iterations."
   ]
  },
  {
   "cell_type": "code",
   "execution_count": null,
   "metadata": {},
   "outputs": [],
   "source": [
    "# code goes here as applicable"
   ]
  },
  {
   "cell_type": "markdown",
   "metadata": {},
   "source": [
    "### Evaluation"
   ]
  },
  {
   "cell_type": "markdown",
   "metadata": {},
   "source": [
    "\n",
    " **Testing and Evaluating the Perceptron\n",
    "Reason** \n",
    "\n",
    "*To assess the model's performance on unseen data.*\n"
   ]
  },
  {
   "cell_type": "markdown",
   "metadata": {},
   "source": [
    "- Use the test dataset to evaluate how well the perceptron classifies new data.\n",
    "- Compute metrics like accuracy to quantify the performance."
   ]
  },
  {
   "cell_type": "code",
   "execution_count": null,
   "metadata": {},
   "outputs": [],
   "source": [
    "# code goes here as applicable"
   ]
  },
  {
   "cell_type": "markdown",
   "metadata": {},
   "source": [
    "\n",
    "### Visualizing the Decision Boundary Reason\n",
    "\n",
    "*A graphical view of how the perceptron separates the classes can offer insights.*\n"
   ]
  },
  {
   "cell_type": "markdown",
   "metadata": {},
   "source": [
    "Plot the decision boundary against your dataset to visually assess how well the perceptron has learned to separate the classes.\n"
   ]
  },
  {
   "cell_type": "code",
   "execution_count": null,
   "metadata": {},
   "outputs": [],
   "source": [
    "# code goes here as applicable"
   ]
  },
  {
   "cell_type": "markdown",
   "metadata": {},
   "source": [
    "\n",
    "15. **Model Improvement:** \n",
    "\n",
    "*Suggest ways to improve the model based on the analysis.*\n"
   ]
  },
  {
   "cell_type": "code",
   "execution_count": null,
   "metadata": {},
   "outputs": [],
   "source": [
    "# code goes here as applicable"
   ]
  },
  {
   "cell_type": "markdown",
   "metadata": {},
   "source": [
    "\n",
    "16. **Final Conclusion:** \n",
    "\n",
    "*Summarize the findings and discuss their implications.*"
   ]
  }
 ],
 "metadata": {
  "language_info": {
   "name": "python"
  }
 },
 "nbformat": 4,
 "nbformat_minor": 2
}
